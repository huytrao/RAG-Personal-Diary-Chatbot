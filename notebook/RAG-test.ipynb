{
  "cells": [
    {
      "cell_type": "markdown",
      "metadata": {
        "id": "p5_2O10imYo8"
      },
      "source": [
        "# Indexing."
      ]
    },
    {
      "cell_type": "code",
      "execution_count": null,
      "metadata": {
        "id": "mITMsFZqjqgn"
      },
      "outputs": [],
      "source": [
        "!pip install pypdf --quiet # -> to load pdf file.\n",
        "!pip install doc2txt --quiet # -> to load doc2txt file.\n",
        "!pip install langchain --quiet # -> load pdf file\n",
        "!pip install langchain-community --quiet\n",
        "!pip install docx2txt --quiet\n",
        "!pip install chromadb --quiet"
      ]
    },
    {
      "cell_type": "markdown",
      "metadata": {
        "id": "7DjCkKMIlFDU"
      },
      "source": [
        "## Download file example."
      ]
    },
    {
      "cell_type": "markdown",
      "metadata": {
        "id": "Tnrg_lG3qfTu"
      },
      "source": [
        "## 1. Data Loading"
      ]
    },
    {
      "cell_type": "markdown",
      "metadata": {
        "id": "u0xPYfHCrcKl"
      },
      "source": [
        "## Loading PyPDFLoader."
      ]
    },
    {
      "cell_type": "code",
      "execution_count": null,
      "metadata": {
        "colab": {
          "base_uri": "https://localhost:8080/"
        },
        "id": "J9VN13ArlEhz",
        "outputId": "fd6e5b15-6ab5-4e4b-9234-8cfa2488a9f6"
      },
      "outputs": [
        {
          "name": "stdout",
          "output_type": "stream",
          "text": [
            "Downloading...\n",
            "From: https://drive.google.com/uc?id=1y9O2EPwXrU4BsIwSUQ6nLmQxXN265Q55\n",
            "To: /content/Introduction_to_Data_and_Data_Science.pdf\n",
            "\r  0% 0.00/104k [00:00<?, ?B/s]\r100% 104k/104k [00:00<00:00, 81.8MB/s]\n"
          ]
        }
      ],
      "source": [
        "#Download file example\n",
        "!gdown 1y9O2EPwXrU4BsIwSUQ6nLmQxXN265Q55"
      ]
    },
    {
      "cell_type": "code",
      "execution_count": null,
      "metadata": {
        "id": "zWlmbRvnkUZp"
      },
      "outputs": [],
      "source": [
        "# from langchain_community.document_loaders import PyPDFLoader\n",
        "from langchain_community.document_loaders import PyPDFLoader\n",
        "loader_pdf = PyPDFLoader(\"/content/Introduction_to_Data_and_Data_Science.pdf\")"
      ]
    },
    {
      "cell_type": "code",
      "execution_count": null,
      "metadata": {
        "id": "m26HMs2CmbiF"
      },
      "outputs": [],
      "source": [
        "pages_pdf = loader_pdf.load() # -> read and process content."
      ]
    },
    {
      "cell_type": "code",
      "execution_count": null,
      "metadata": {
        "id": "LmciDDcKpIWt"
      },
      "outputs": [],
      "source": [
        "# Store metadata of the text task."
      ]
    },
    {
      "cell_type": "code",
      "execution_count": null,
      "metadata": {
        "id": "ehHpk5ZNn8YL"
      },
      "outputs": [],
      "source": [
        "import copy\n",
        "\n",
        "# copies the object and all nested objects recursively\n",
        "pages_pdf_cut = copy.deepcopy(pages_pdf)"
      ]
    },
    {
      "cell_type": "code",
      "execution_count": null,
      "metadata": {
        "colab": {
          "base_uri": "https://localhost:8080/",
          "height": 122
        },
        "id": "7YYD5gfSoGD6",
        "outputId": "5ef126ef-39bd-49b2-ea1d-a69639728a12"
      },
      "outputs": [
        {
          "data": {
            "application/vnd.google.colaboratory.intrinsic+json": {
              "type": "string"
            },
            "text/plain": [
              "'Analysis vs Analytics Alright! So… Let’s discuss the not-so-obvious differences between the terms analysis and analytics. Due to the similarity of the words, some people believe they share the same meaning, and thus use them interchangeably. Technically, this isn’t correct. There is, in fact, a distinct difference between the two. And the reason for one often being used instead of the other is the lack of a transparent understanding of both. So, let’s clear this up, shall we? First, we will start with analysis. Consider the following… You have a huge dataset containing data of various types. Instead of tackling the entire dataset and running the risk of becoming overwhelmed, you separate it into easier to digest chunks and study them individually and examine how they relate to other parts. And that’s analysis in a nutshell. One important thing to remember, however, is that you perform analyses on things that have already happened in the past. Such as using an analysis to explain how a story ended the way it did or how there was a decrease in sales last summer. All this means that we do analyses to explain how and/or why something happened. Great! Now, this leads us nicely on to the definition of analytics. As you have probably guessed, analytics generally refers to the future. Instead of explaining past events it explores potential future ones. Analytics is essentially the application of logical and computational reasoning to the component parts obtained in an analysis. And in doing this you are looking for patterns'"
            ]
          },
          "execution_count": 183,
          "metadata": {},
          "output_type": "execute_result"
        }
      ],
      "source": [
        "# Looks hown the pdf in group  is change.join all the list of charatering.\n",
        "' '.join(pages_pdf_cut[0].page_content.split())"
      ]
    },
    {
      "cell_type": "code",
      "execution_count": null,
      "metadata": {
        "id": "swFKlDKhoeRJ"
      },
      "outputs": [],
      "source": [
        "# Clean text.\n",
        "for i in pages_pdf_cut:\n",
        "    i.page_content = ' '.join(i.page_content.split())"
      ]
    },
    {
      "cell_type": "code",
      "execution_count": null,
      "metadata": {
        "colab": {
          "base_uri": "https://localhost:8080/"
        },
        "id": "3ExGwChtp1xW",
        "outputId": "ecd5a15a-6891-4750-eccf-5ff8831d2444"
      },
      "outputs": [
        {
          "data": {
            "text/plain": [
              "Document(metadata={'producer': 'Microsoft® Word for Microsoft 365', 'creator': 'Microsoft® Word for Microsoft 365', 'creationdate': '2023-11-09T10:16:34+02:00', 'author': 'Hristina  Hristova', 'moddate': '2023-11-09T10:16:34+02:00', 'source': '/content/Introduction_to_Data_and_Data_Science.pdf', 'total_pages': 6, 'page': 0, 'page_label': '1'}, page_content='Analysis vs Analytics Alright! So… Let’s discuss the not-so-obvious differences between the terms analysis and analytics. Due to the similarity of the words, some people believe they share the same meaning, and thus use them interchangeably. Technically, this isn’t correct. There is, in fact, a distinct difference between the two. And the reason for one often being used instead of the other is the lack of a transparent understanding of both. So, let’s clear this up, shall we? First, we will start with analysis. Consider the following… You have a huge dataset containing data of various types. Instead of tackling the entire dataset and running the risk of becoming overwhelmed, you separate it into easier to digest chunks and study them individually and examine how they relate to other parts. And that’s analysis in a nutshell. One important thing to remember, however, is that you perform analyses on things that have already happened in the past. Such as using an analysis to explain how a story ended the way it did or how there was a decrease in sales last summer. All this means that we do analyses to explain how and/or why something happened. Great! Now, this leads us nicely on to the definition of analytics. As you have probably guessed, analytics generally refers to the future. Instead of explaining past events it explores potential future ones. Analytics is essentially the application of logical and computational reasoning to the component parts obtained in an analysis. And in doing this you are looking for patterns')"
            ]
          },
          "execution_count": 185,
          "metadata": {},
          "output_type": "execute_result"
        }
      ],
      "source": [
        "pages_pdf_cut[0]"
      ]
    },
    {
      "cell_type": "markdown",
      "metadata": {
        "id": "uiZBAHZpqq3n"
      },
      "source": [
        "## Let's check tokenizer of each pages. estimate a toke file."
      ]
    },
    {
      "cell_type": "markdown",
      "metadata": {
        "id": "kmxyyNT8q9EJ"
      },
      "source": [
        "https://platform.openai.com/tokenizer"
      ]
    },
    {
      "cell_type": "markdown",
      "metadata": {
        "id": "z_0MuxnFtp9a"
      },
      "source": [
        "Loading by Docx2txtLoader."
      ]
    },
    {
      "cell_type": "code",
      "execution_count": null,
      "metadata": {
        "id": "7aejPfWptpxS"
      },
      "outputs": [],
      "source": [
        "from langchain_community.document_loaders import Docx2txtLoader"
      ]
    },
    {
      "cell_type": "code",
      "execution_count": null,
      "metadata": {
        "colab": {
          "base_uri": "https://localhost:8080/"
        },
        "id": "1XEODEPnujGB",
        "outputId": "5b392bad-7318-4b2b-a9cc-e48592dad328"
      },
      "outputs": [
        {
          "name": "stdout",
          "output_type": "stream",
          "text": [
            "Downloading...\n",
            "From: https://drive.google.com/uc?id=1hDWoSohAj0IPcX_KmnuvbUoM6scoUC8q\n",
            "To: /content/Introduction_to_Data_and_Data_Science.docx\n",
            "\r  0% 0.00/18.4k [00:00<?, ?B/s]\r100% 18.4k/18.4k [00:00<00:00, 38.5MB/s]\n"
          ]
        }
      ],
      "source": [
        "!gdown 1hDWoSohAj0IPcX_KmnuvbUoM6scoUC8q"
      ]
    },
    {
      "cell_type": "code",
      "execution_count": null,
      "metadata": {
        "id": "yY-D96M0t8dS"
      },
      "outputs": [],
      "source": [
        "loader_docx = Docx2txtLoader(\"/content/Introduction_to_Data_and_Data_Science.docx\")"
      ]
    },
    {
      "cell_type": "code",
      "execution_count": null,
      "metadata": {
        "id": "-6Gd98sdt_t9"
      },
      "outputs": [],
      "source": [
        "pages_docx = loader_docx.load()"
      ]
    },
    {
      "cell_type": "code",
      "execution_count": null,
      "metadata": {
        "colab": {
          "base_uri": "https://localhost:8080/"
        },
        "id": "fR8cCBttvGjg",
        "outputId": "860c0a63-1057-454b-f32a-6f092d6940a5"
      },
      "outputs": [
        {
          "data": {
            "text/plain": [
              "8262"
            ]
          },
          "execution_count": 190,
          "metadata": {},
          "output_type": "execute_result"
        }
      ],
      "source": [
        "len(pages_docx[0].page_content)"
      ]
    },
    {
      "cell_type": "markdown",
      "metadata": {
        "id": "KLuyMotNv7Fp"
      },
      "source": [
        "## 2. Data Splitting."
      ]
    },
    {
      "cell_type": "code",
      "execution_count": null,
      "metadata": {
        "id": "bzsyPvyovJGW"
      },
      "outputs": [],
      "source": [
        "from langchain_text_splitters import CharacterTextSplitter"
      ]
    },
    {
      "cell_type": "code",
      "execution_count": null,
      "metadata": {
        "id": "E7YimuHoxxLP"
      },
      "outputs": [],
      "source": [
        "# devicer data with num of characters are 500 and no overlap between them.\n",
        "char_splitter = CharacterTextSplitter(separator= \"\",\n",
        "                                              chunk_size = 500,\n",
        "                                              chunk_overlap = 0)\n"
      ]
    },
    {
      "cell_type": "code",
      "execution_count": null,
      "metadata": {
        "id": "R28Jze43zJ99"
      },
      "outputs": [],
      "source": [
        "# loading docx file example\n",
        "pages = loader_docx.load()"
      ]
    },
    {
      "cell_type": "code",
      "execution_count": null,
      "metadata": {
        "id": "maonfawjzFh3"
      },
      "outputs": [],
      "source": [
        "pages_char_split = char_splitter.split_documents(pages)"
      ]
    },
    {
      "cell_type": "code",
      "execution_count": null,
      "metadata": {
        "colab": {
          "base_uri": "https://localhost:8080/"
        },
        "id": "phr1tBNRzUln",
        "outputId": "36bcb7b6-a2b1-463c-c982-d972677ea2d4"
      },
      "outputs": [
        {
          "data": {
            "text/plain": [
              "17"
            ]
          },
          "execution_count": 195,
          "metadata": {},
          "output_type": "execute_result"
        }
      ],
      "source": [
        "# let's check lens of page of char split.\n",
        "len(pages_char_split)"
      ]
    },
    {
      "cell_type": "code",
      "execution_count": null,
      "metadata": {
        "colab": {
          "base_uri": "https://localhost:8080/"
        },
        "id": "aZatwnqczjtG",
        "outputId": "aa85771e-6886-4552-9615-b549d42c4406"
      },
      "outputs": [
        {
          "data": {
            "text/plain": [
              "16.524"
            ]
          },
          "execution_count": 196,
          "metadata": {},
          "output_type": "execute_result"
        }
      ],
      "source": [
        "len(pages_docx[0].page_content) / 500"
      ]
    },
    {
      "cell_type": "markdown",
      "metadata": {
        "id": "qVSOGRNVzyfU"
      },
      "source": [
        "## let's test with overlap\n"
      ]
    },
    {
      "cell_type": "code",
      "execution_count": null,
      "metadata": {
        "id": "uRdWhXKezq0p"
      },
      "outputs": [],
      "source": [
        "# devicer data with num of characters are 500 and no overlap between them.\n",
        "char_splitter_overl = CharacterTextSplitter(separator= \"\",\n",
        "                                              chunk_size = 500,\n",
        "                                              chunk_overlap = 50)"
      ]
    },
    {
      "cell_type": "code",
      "execution_count": null,
      "metadata": {
        "id": "QcTUeDkfz45L"
      },
      "outputs": [],
      "source": [
        "pages_char_split_overl = char_splitter_overl.split_documents(pages)"
      ]
    },
    {
      "cell_type": "code",
      "execution_count": null,
      "metadata": {
        "colab": {
          "base_uri": "https://localhost:8080/"
        },
        "id": "Vjcpm-Y2z7ib",
        "outputId": "b5344459-e58b-426b-906b-e396a7242df4"
      },
      "outputs": [
        {
          "data": {
            "text/plain": [
              "19"
            ]
          },
          "execution_count": 199,
          "metadata": {},
          "output_type": "execute_result"
        }
      ],
      "source": [
        "# let's check lens of page of char split.\n",
        "len(pages_char_split_overl)"
      ]
    },
    {
      "cell_type": "markdown",
      "metadata": {
        "id": "tDldUntD0iE5"
      },
      "source": [
        "## character more offer."
      ]
    },
    {
      "cell_type": "markdown",
      "metadata": {
        "id": "F7EmIUcc0sfv"
      },
      "source": [
        "## Split with markdown header text splitter."
      ]
    },
    {
      "cell_type": "code",
      "execution_count": null,
      "metadata": {
        "colab": {
          "base_uri": "https://localhost:8080/"
        },
        "id": "UbrjlMRb0IGF",
        "outputId": "6d085189-5f61-4f15-9d26-83c0a0a9c961"
      },
      "outputs": [
        {
          "name": "stdout",
          "output_type": "stream",
          "text": [
            "Downloading...\n",
            "From: https://drive.google.com/uc?id=172jJkJr1rDwRAj_9BCRiEX4HGsRSHonM\n",
            "To: /content/Introduction_to_Data_and_Data_Science_2.docx\n",
            "\r  0% 0.00/18.6k [00:00<?, ?B/s]\r100% 18.6k/18.6k [00:00<00:00, 30.8MB/s]\n"
          ]
        }
      ],
      "source": [
        "!gdown 172jJkJr1rDwRAj_9BCRiEX4HGsRSHonM"
      ]
    },
    {
      "cell_type": "code",
      "execution_count": null,
      "metadata": {
        "id": "6EJD2asu7hYH"
      },
      "outputs": [],
      "source": [
        "from langchain_community.document_loaders import Docx2txtLoader\n",
        "from langchain_text_splitters.markdown import MarkdownHeaderTextSplitter\n"
      ]
    },
    {
      "cell_type": "code",
      "execution_count": null,
      "metadata": {
        "id": "CL9Oe2oS73ap"
      },
      "outputs": [],
      "source": [
        "loader_docx = Docx2txtLoader(\"/content/Introduction_to_Data_and_Data_Science_2.docx\")"
      ]
    },
    {
      "cell_type": "code",
      "execution_count": null,
      "metadata": {
        "id": "jbpE7yRA7-P0"
      },
      "outputs": [],
      "source": [
        "pages = loader_docx.load()"
      ]
    },
    {
      "cell_type": "code",
      "execution_count": null,
      "metadata": {
        "colab": {
          "base_uri": "https://localhost:8080/"
        },
        "id": "Gx0g4IaR8Bnu",
        "outputId": "0eb0b7a0-cfe7-479b-c570-63bd4a5363ca"
      },
      "outputs": [
        {
          "data": {
            "text/plain": [
              "[Document(metadata={'source': '/content/Introduction_to_Data_and_Data_Science_2.docx'}, page_content=\"# Introduction to Data and Data Science\\n\\n## Analysis vs Analytics\\n\\nAlright! So…\\nLet’s discuss the not-so-obvious differences\\nbetween the terms analysis and analytics.\\nDue to the similarity of the words, some people\\nbelieve they share the same meaning, and thus\\nuse them interchangeably. Technically, this\\nisn’t correct. There is, in fact, a distinct\\ndifference between the two. And the reason\\nfor one often being used instead of the other\\nis the lack of a transparent understanding\\nof both.\\nSo, let’s clear this up, shall we?\\nFirst, we will start with analysis.\\nConsider the following…\\nYou have a huge dataset containing data of\\nvarious types. Instead of tackling the entire\\ndataset and running the risk of becoming overwhelmed,\\nyou separate it into easier to digest chunks\\nand study them individually and examine how\\nthey relate to other parts. And that’s analysis\\nin a nutshell.\\nOne important thing to remember, however,\\nis that you perform analyses on things that\\nhave already happened in the past. Such as\\nusing an analysis to explain how a story ended\\nthe way it did or how there was a decrease\\nin sales last summer.\\nAll this means that we do analyses to explain\\nhow and/or why something happened.\\nGreat!\\nNow, this leads us nicely on to the definition\\nof analytics.\\nAs you have probably guessed, analytics generally\\nrefers to the future. Instead of explaining\\npast events it explores potential future ones.\\nAnalytics is essentially the application of\\nlogical and computational reasoning to the\\ncomponent parts obtained in an analysis. And\\nin doing this you are looking for patterns\\nand exploring what you could do with them\\nin the future.\\nHere, analytics branches off into two areas:\\nqualitative analytics – this is using your\\nintuition and experience in conjunction with\\nthe analysis to plan your next business move.\\nAnd quantitative analytics – this is applying\\nformulas and algorithms to numbers you have\\ngathered from your analysis.\\nHere are a couple of examples.\\nSay, you are an owner of an online clothing\\nstore. You are ahead of the competition and\\nhave a great understanding of what your customer's\\nneeds and wants are. You’ve performed a\\nvery detailed analysis from women’s clothing\\narticles and feel sure about which fashion\\ntrends to follow. You may use this intuition\\nto decide on which styles of clothing to start\\nselling. This would be qualitative analytics.\\nBut you might not know when to introduce the\\nnew collection. In that case, relying on past\\nsales data and user experience data, you could\\npredict in which month it would be best to\\ndo that. This is an example of using quantitative\\nanalytics.\\nFantastic!\\nTo backtrack a little, you can combine these\\nareas with analyses also – you could perform\\nqualitative analysis – to explain how or\\nwhy a story ended the way it did. And you\\ncan perform quantitative analysis – working\\nwith past data to explain how sales decreased\\nlast summer.\\nPerfect!\\nNow that we have cleared up the differences\\nbetween analysis and analytics it shouldn’t\\nbe too difficult to see how terms such as\\n‘data analysis’, ‘data analytics’,\\n‘business analysis’ and ‘business analytics’\\ncan have their unique meanings too.\\nMore of this will be explained in the next\\nvideo which aims to simplify these, as well\\nas many more with a fantastic diagram. So,\\nlet’s move on!\\n\\n## Programming Languages & Software Employed in Data Science - All the Tools You Need\\n\\nAlright! So…\\nHow are the techniques used in data, business\\nintelligence, or predictive analytics applied\\nin real life?\\nCertainly, with the help of computers.\\nYou can basically split the relevant tools\\ninto two categories—programming languages\\nand software.\\nKnowing a programming language enables you\\nto devise programs that can execute specific\\noperations. Moreover, you can reuse these\\nprograms whenever you need to execute the\\nsame action.\\nAs you can see from the infographic, R, and\\nPython are the two most popular tools across\\nall columns. Their biggest advantage is that\\nthey can manipulate data and are integrated\\nwithin multiple data and data science software\\nplatforms. They are not just suitable for\\nmathematical and statistical computations.\\nIn other words, R, and Python are adaptable.\\nThey can solve a wide variety of business\\nand data-related problems from beginning to\\nthe end.\\nOf course, R, and Python do have their limitations.\\nThey are not able to address problems specific\\nto some domains. One example is ‘relational\\ndatabase management systems’—there, SQL\\nis king. It was specifically created for that\\npurpose. SQL is at its most advantageous when\\nworking with traditional, historical data.\\nWhen preparing your BI analysis, for instance,\\nyou will surely employ it.\\nOkay.\\nWhen it comes to data science, mentioning\\nMATLAB is inevitable. It is ideal for working\\nwith mathematical functions or matrix manipulations.\\nThat’s why it is present in all categories\\nexcept for ‘big data’. While respectable,\\nMATLAB usage is a paid service, and that’s\\none of the reasons why it is losing ground\\nto open-source languages like R and Python.\\nEither way, R, Python, and MATLAB, combined\\nwith SQL, cover most of the tools used when\\nworking with traditional data, BI, and conventional\\ndata science.\\nWhat about big data?\\nApart from R and Python, people working in\\nthis area are often proficient in other languages\\nlike Java or Scala. These two have not been\\ndeveloped specifically for doing statistical\\nanalyses, however they turn out to be very\\nuseful when combining data from multiple sources.\\nAll right! Let’s finish off with machine\\nlearning.\\nWhen it comes to machine learning, we often\\ndeal with big data. Thus, we need a lot of\\ncomputational power, and we can expect people\\nto use the languages similar to those in the\\nbig data column. Apart from R, Python, and\\nMATLAB, other, faster languages are used like\\nJava, JavaScript, C, C++, and Scala.\\nCool.\\nWhat we said may be wonderful, but that’s\\nnot all!\\nBy using one or more programming languages,\\npeople create application software or, as\\nthey are sometimes called, software solutions,\\nthat are adjusted for specific business needs.\\nTheir smaller scope does not make them less\\nuseful, in fact, just the opposite—they\\nare a lot easier to learn and be adopted by\\nothers. You have already heard of several\\nof those.\\nBecause of its ability to do relatively complex\\ncomputations and good visualizations quickly,\\nExcel is a tool applicable to more than one\\ncategory—traditional data, BI, and Data\\nScience. Similarly, SPSS is a very famous\\ntool for working with traditional data and\\napplying statistical analysis.\\nAmong the many applications we have plotted,\\nwe can say there is an increasing amount of\\nsoftware designed for working with big data\\nsuch as Apache Hadoop, Apache Hbase, and Mongo\\nDB.\\nIn terms of big data, Hadoop is the name that\\nmust stick with you. Hadoop is listed as a\\nsoftware in the sense that it is a collection\\nof programs, but don’t imagine it as a nice-looking\\napplication. It’s actually a software framework\\nwhich was designed to address the complexity\\nof big data and its computational intensity.\\nMost notably, Hadoop distributes the computational\\ntasks on multiple computers which is basically\\nthe way to handle big data nowadays.\\nPower BI, SaS, Qlik, and especially Tableau\\nare top-notch examples of software designed\\nfor business intelligence visualizations.\\nIn terms of predictive analytics, EViews is\\nmostly used for working with econometric time-series\\nmodels, and Stata—for academic statistical\\nand econometric research, where techniques\\nlike regression, cluster, and factor analysis\\nare constantly applied.\\nAs a final note, remember the following.\\nShould you have the relevant business and\\ntheoretical knowledge, learning a software\\ntool is relatively easy as opposed to learning\\na programming language. More importantly,\\nit will be sufficient for your need to create\\nquick and accurate analyses.\\nHowever, if your theoretical preparation is\\nstrong enough, you will find yourself restricted\\nby software. Knowing a programming language\\nsuch as R and Python, gives you the freedom\\nto create specific, ad-hoc tools for each\\nproject you are working on.\\nGreat!\\nWe hope we gave you a good idea about the\\nlevel of applicability of the most frequently\\nused programming and software tools in the\\nfield of data science.\\nThank you for watching!\")]"
            ]
          },
          "execution_count": 204,
          "metadata": {},
          "output_type": "execute_result"
        }
      ],
      "source": [
        "pages"
      ]
    },
    {
      "cell_type": "code",
      "execution_count": null,
      "metadata": {
        "id": "w6_BdVy38DQN"
      },
      "outputs": [],
      "source": [
        "## Using Mardown HeaderTextSplitter() to splitter the classes.\n",
        "md_splitter = MarkdownHeaderTextSplitter(headers_to_split_on= [(\"#\", \"Course Title\"),\n",
        "                                                               (\"##\", \"Lecture Title\")])"
      ]
    },
    {
      "cell_type": "code",
      "execution_count": null,
      "metadata": {
        "id": "RNcQMdSY8qo5"
      },
      "outputs": [],
      "source": [
        "pages_md_split = md_splitter.split_text(pages[0].page_content)"
      ]
    },
    {
      "cell_type": "markdown",
      "metadata": {
        "id": "juy0ITca9DSd"
      },
      "source": [
        "## that would be splitter two of document each document come with a page content and a metadata parameter."
      ]
    },
    {
      "cell_type": "code",
      "execution_count": null,
      "metadata": {
        "colab": {
          "base_uri": "https://localhost:8080/"
        },
        "id": "jx4qB0SO8sUn",
        "outputId": "6a71b41b-e3df-4f5d-c20a-9b3f3f96552e"
      },
      "outputs": [
        {
          "data": {
            "text/plain": [
              "[Document(metadata={'Course Title': 'Introduction to Data and Data Science', 'Lecture Title': 'Analysis vs Analytics'}, page_content=\"Alright! So…\\nLet’s discuss the not-so-obvious differences\\nbetween the terms analysis and analytics.\\nDue to the similarity of the words, some people\\nbelieve they share the same meaning, and thus\\nuse them interchangeably. Technically, this\\nisn’t correct. There is, in fact, a distinct\\ndifference between the two. And the reason\\nfor one often being used instead of the other\\nis the lack of a transparent understanding\\nof both.\\nSo, let’s clear this up, shall we?\\nFirst, we will start with analysis.\\nConsider the following…\\nYou have a huge dataset containing data of\\nvarious types. Instead of tackling the entire\\ndataset and running the risk of becoming overwhelmed,\\nyou separate it into easier to digest chunks\\nand study them individually and examine how\\nthey relate to other parts. And that’s analysis\\nin a nutshell.\\nOne important thing to remember, however,\\nis that you perform analyses on things that\\nhave already happened in the past. Such as\\nusing an analysis to explain how a story ended\\nthe way it did or how there was a decrease\\nin sales last summer.\\nAll this means that we do analyses to explain\\nhow and/or why something happened.\\nGreat!\\nNow, this leads us nicely on to the definition\\nof analytics.\\nAs you have probably guessed, analytics generally\\nrefers to the future. Instead of explaining\\npast events it explores potential future ones.\\nAnalytics is essentially the application of\\nlogical and computational reasoning to the\\ncomponent parts obtained in an analysis. And\\nin doing this you are looking for patterns\\nand exploring what you could do with them\\nin the future.\\nHere, analytics branches off into two areas:\\nqualitative analytics – this is using your\\nintuition and experience in conjunction with\\nthe analysis to plan your next business move.\\nAnd quantitative analytics – this is applying\\nformulas and algorithms to numbers you have\\ngathered from your analysis.\\nHere are a couple of examples.\\nSay, you are an owner of an online clothing\\nstore. You are ahead of the competition and\\nhave a great understanding of what your customer's\\nneeds and wants are. You’ve performed a\\nvery detailed analysis from women’s clothing\\narticles and feel sure about which fashion\\ntrends to follow. You may use this intuition\\nto decide on which styles of clothing to start\\nselling. This would be qualitative analytics.\\nBut you might not know when to introduce the\\nnew collection. In that case, relying on past\\nsales data and user experience data, you could\\npredict in which month it would be best to\\ndo that. This is an example of using quantitative\\nanalytics.\\nFantastic!\\nTo backtrack a little, you can combine these\\nareas with analyses also – you could perform\\nqualitative analysis – to explain how or\\nwhy a story ended the way it did. And you\\ncan perform quantitative analysis – working\\nwith past data to explain how sales decreased\\nlast summer.\\nPerfect!\\nNow that we have cleared up the differences\\nbetween analysis and analytics it shouldn’t\\nbe too difficult to see how terms such as\\n‘data analysis’, ‘data analytics’,\\n‘business analysis’ and ‘business analytics’\\ncan have their unique meanings too.\\nMore of this will be explained in the next\\nvideo which aims to simplify these, as well\\nas many more with a fantastic diagram. So,\\nlet’s move on!\"),\n",
              " Document(metadata={'Course Title': 'Introduction to Data and Data Science', 'Lecture Title': 'Programming Languages & Software Employed in Data Science - All the Tools You Need'}, page_content='Alright! So…\\nHow are the techniques used in data, business\\nintelligence, or predictive analytics applied\\nin real life?\\nCertainly, with the help of computers.\\nYou can basically split the relevant tools\\ninto two categories—programming languages\\nand software.\\nKnowing a programming language enables you\\nto devise programs that can execute specific\\noperations. Moreover, you can reuse these\\nprograms whenever you need to execute the\\nsame action.\\nAs you can see from the infographic, R, and\\nPython are the two most popular tools across\\nall columns. Their biggest advantage is that\\nthey can manipulate data and are integrated\\nwithin multiple data and data science software\\nplatforms. They are not just suitable for\\nmathematical and statistical computations.\\nIn other words, R, and Python are adaptable.\\nThey can solve a wide variety of business\\nand data-related problems from beginning to\\nthe end.\\nOf course, R, and Python do have their limitations.\\nThey are not able to address problems specific\\nto some domains. One example is ‘relational\\ndatabase management systems’—there, SQL\\nis king. It was specifically created for that\\npurpose. SQL is at its most advantageous when\\nworking with traditional, historical data.\\nWhen preparing your BI analysis, for instance,\\nyou will surely employ it.\\nOkay.\\nWhen it comes to data science, mentioning\\nMATLAB is inevitable. It is ideal for working\\nwith mathematical functions or matrix manipulations.\\nThat’s why it is present in all categories\\nexcept for ‘big data’. While respectable,\\nMATLAB usage is a paid service, and that’s\\none of the reasons why it is losing ground\\nto open-source languages like R and Python.\\nEither way, R, Python, and MATLAB, combined\\nwith SQL, cover most of the tools used when\\nworking with traditional data, BI, and conventional\\ndata science.\\nWhat about big data?\\nApart from R and Python, people working in\\nthis area are often proficient in other languages\\nlike Java or Scala. These two have not been\\ndeveloped specifically for doing statistical\\nanalyses, however they turn out to be very\\nuseful when combining data from multiple sources.\\nAll right! Let’s finish off with machine\\nlearning.\\nWhen it comes to machine learning, we often\\ndeal with big data. Thus, we need a lot of\\ncomputational power, and we can expect people\\nto use the languages similar to those in the\\nbig data column. Apart from R, Python, and\\nMATLAB, other, faster languages are used like\\nJava, JavaScript, C, C++, and Scala.\\nCool.\\nWhat we said may be wonderful, but that’s\\nnot all!\\nBy using one or more programming languages,\\npeople create application software or, as\\nthey are sometimes called, software solutions,\\nthat are adjusted for specific business needs.\\nTheir smaller scope does not make them less\\nuseful, in fact, just the opposite—they\\nare a lot easier to learn and be adopted by\\nothers. You have already heard of several\\nof those.\\nBecause of its ability to do relatively complex\\ncomputations and good visualizations quickly,\\nExcel is a tool applicable to more than one\\ncategory—traditional data, BI, and Data\\nScience. Similarly, SPSS is a very famous\\ntool for working with traditional data and\\napplying statistical analysis.\\nAmong the many applications we have plotted,\\nwe can say there is an increasing amount of\\nsoftware designed for working with big data\\nsuch as Apache Hadoop, Apache Hbase, and Mongo\\nDB.\\nIn terms of big data, Hadoop is the name that\\nmust stick with you. Hadoop is listed as a\\nsoftware in the sense that it is a collection\\nof programs, but don’t imagine it as a nice-looking\\napplication. It’s actually a software framework\\nwhich was designed to address the complexity\\nof big data and its computational intensity.\\nMost notably, Hadoop distributes the computational\\ntasks on multiple computers which is basically\\nthe way to handle big data nowadays.\\nPower BI, SaS, Qlik, and especially Tableau\\nare top-notch examples of software designed\\nfor business intelligence visualizations.\\nIn terms of predictive analytics, EViews is\\nmostly used for working with econometric time-series\\nmodels, and Stata—for academic statistical\\nand econometric research, where techniques\\nlike regression, cluster, and factor analysis\\nare constantly applied.\\nAs a final note, remember the following.\\nShould you have the relevant business and\\ntheoretical knowledge, learning a software\\ntool is relatively easy as opposed to learning\\na programming language. More importantly,\\nit will be sufficient for your need to create\\nquick and accurate analyses.\\nHowever, if your theoretical preparation is\\nstrong enough, you will find yourself restricted\\nby software. Knowing a programming language\\nsuch as R and Python, gives you the freedom\\nto create specific, ad-hoc tools for each\\nproject you are working on.\\nGreat!\\nWe hope we gave you a good idea about the\\nlevel of applicability of the most frequently\\nused programming and software tools in the\\nfield of data science.\\nThank you for watching!')]"
            ]
          },
          "execution_count": 207,
          "metadata": {},
          "output_type": "execute_result"
        }
      ],
      "source": [
        "pages_md_split"
      ]
    },
    {
      "cell_type": "markdown",
      "metadata": {
        "id": "kYTS3MTC455L"
      },
      "source": [
        "## Text Embedding."
      ]
    },
    {
      "cell_type": "code",
      "execution_count": null,
      "metadata": {
        "id": "9WAYT-Vl6uJv"
      },
      "outputs": [],
      "source": [
        "# import google API key for text embedding.\n",
        "import getpass\n",
        "import os\n",
        "\n",
        "if not os.getenv(\"GOOGLE_API_KEY\"):\n",
        "    os.environ[\"GOOGLE_API_KEY\"] = getpass.getpass(\"Enter your Google API key: \")"
      ]
    },
    {
      "cell_type": "code",
      "execution_count": null,
      "metadata": {
        "id": "cNtDKYeD5eyH"
      },
      "outputs": [],
      "source": [
        "%pip install --upgrade --quiet  langchain-google-genai"
      ]
    },
    {
      "cell_type": "code",
      "execution_count": null,
      "metadata": {
        "id": "BikwkJ8Y7flO"
      },
      "outputs": [],
      "source": [
        "from langchain_google_genai import GoogleGenerativeAIEmbeddings\n",
        "\n",
        "embedding = GoogleGenerativeAIEmbeddings(model=\"text-embedding-004\")\n",
        "vector1 = embedding.embed_query(pages_char_split[3].page_content)\n",
        "vector2 = embedding.embed_query(pages_char_split[5].page_content)\n",
        "vector3 = embedding.embed_query(pages_char_split[9].page_content)"
      ]
    },
    {
      "cell_type": "code",
      "execution_count": null,
      "metadata": {
        "colab": {
          "base_uri": "https://localhost:8080/"
        },
        "id": "83VleYEs58xz",
        "outputId": "0bc1f528-1c32-452d-9d4d-a36994b4be53"
      },
      "outputs": [
        {
          "data": {
            "text/plain": [
              "768"
            ]
          },
          "execution_count": 211,
          "metadata": {},
          "output_type": "execute_result"
        }
      ],
      "source": [
        "len(vector1)"
      ]
    },
    {
      "cell_type": "code",
      "execution_count": null,
      "metadata": {
        "colab": {
          "base_uri": "https://localhost:8080/"
        },
        "id": "NmZ0B_Gd57gO",
        "outputId": "4c7c2e38-5a09-4418-8472-0c0328667ea9"
      },
      "outputs": [
        {
          "data": {
            "text/plain": [
              "768"
            ]
          },
          "execution_count": 212,
          "metadata": {},
          "output_type": "execute_result"
        }
      ],
      "source": [
        "len(vector2)"
      ]
    },
    {
      "cell_type": "code",
      "execution_count": null,
      "metadata": {
        "colab": {
          "base_uri": "https://localhost:8080/"
        },
        "id": "7L6CgwcS77Ri",
        "outputId": "d5289c19-3295-40ed-d977-58799edf2a07"
      },
      "outputs": [
        {
          "data": {
            "text/plain": [
              "np.float64(0.8663703837661527)"
            ]
          },
          "execution_count": 213,
          "metadata": {},
          "output_type": "execute_result"
        }
      ],
      "source": [
        "# check the cosine similarity between two of them.\n",
        "import numpy as np\n",
        "np.dot(vector1, vector2)"
      ]
    },
    {
      "cell_type": "code",
      "execution_count": null,
      "metadata": {
        "colab": {
          "base_uri": "https://localhost:8080/"
        },
        "id": "xFeJDEbo8EU1",
        "outputId": "b994bdd6-bc14-4bb1-bf90-7a268b86e5f3"
      },
      "outputs": [
        {
          "data": {
            "text/plain": [
              "np.float64(0.9999947611040438)"
            ]
          },
          "execution_count": 214,
          "metadata": {},
          "output_type": "execute_result"
        }
      ],
      "source": [
        "np.linalg.norm(vector1)"
      ]
    },
    {
      "cell_type": "markdown",
      "metadata": {
        "id": "J4fN595K8fLs"
      },
      "source": [
        "## Document storing.\n"
      ]
    },
    {
      "cell_type": "code",
      "execution_count": null,
      "metadata": {
        "id": "rIeSmoty825G"
      },
      "outputs": [],
      "source": [
        "from langchain_community.vectorstores import Chroma"
      ]
    },
    {
      "cell_type": "code",
      "execution_count": null,
      "metadata": {
        "id": "dws_pRKv9Zgj"
      },
      "outputs": [],
      "source": [
        "vectorstore = Chroma.from_documents(documents = pages_char_split,\n",
        "                                    embedding = embedding,\n",
        "                                    persist_directory = \"./intro-to-ds-lectures\")"
      ]
    },
    {
      "cell_type": "code",
      "execution_count": null,
      "metadata": {
        "id": "D4WzPvdF9coA"
      },
      "outputs": [],
      "source": [
        "vectorstore_from_directory = Chroma(persist_directory = \"./intro-to-ds-lectures\", # canbe updated, or new ones can be added\n",
        "                                    embedding_function = embedding) # Use to maintain consistency and accuracy in the representation of existing document."
      ]
    },
    {
      "cell_type": "markdown",
      "metadata": {
        "id": "-OlZtTDb_Ldu"
      },
      "source": [
        "## Add documents , Updatedocuments , del|ete document."
      ]
    },
    {
      "cell_type": "code",
      "execution_count": null,
      "metadata": {
        "colab": {
          "base_uri": "https://localhost:8080/"
        },
        "id": "QasMkbjp_HgH",
        "outputId": "731a5253-fa59-4df8-eae9-49dad75102a3"
      },
      "outputs": [
        {
          "data": {
            "text/plain": [
              "{'ids': [],\n",
              " 'embeddings': array([], dtype=float64),\n",
              " 'documents': None,\n",
              " 'uris': None,\n",
              " 'included': ['embeddings'],\n",
              " 'data': None,\n",
              " 'metadatas': None}"
            ]
          },
          "execution_count": 218,
          "metadata": {},
          "output_type": "execute_result"
        }
      ],
      "source": [
        "vectorstore_from_directory.get(ids = \"6243adfd-299a-4a2c-81e6-091b0254b1c8\",include = [\"embeddings\"])"
      ]
    },
    {
      "cell_type": "code",
      "execution_count": null,
      "metadata": {
        "id": "6_w77BezAZ9l"
      },
      "outputs": [],
      "source": [
        "from langchain_core.documents import Document\n",
        "\n",
        "added_document = Document(page_content='Alright! So… Let’s discuss the not-so-obvious differences between the terms analysis and analytics. Due to the similarity of the words, some people believe they share the same meaning, and thus use them interchangeably. Technically, this isn’t correct. There is, in fact, a distinct difference between the two. And the reason for one often being used instead of the other is the lack of a transparent understanding of both. So, let’s clear this up, shall we? First, we will start with analysis',\n",
        "                          metadata={'Course Title': 'Introduction to Data and Data Science',\n",
        "                                    'Lecture Title': 'Analysis vs Analytics'})"
      ]
    },
    {
      "cell_type": "code",
      "execution_count": null,
      "metadata": {
        "colab": {
          "base_uri": "https://localhost:8080/"
        },
        "id": "t9ZRezTPBGyE",
        "outputId": "2e219756-79a6-4613-9876-d29b6477052f"
      },
      "outputs": [
        {
          "data": {
            "text/plain": [
              "['70fe8743-7f28-4684-838b-08d41721808c']"
            ]
          },
          "execution_count": 220,
          "metadata": {},
          "output_type": "execute_result"
        }
      ],
      "source": [
        "vectorstore_from_directory.add_documents([added_document])"
      ]
    },
    {
      "cell_type": "code",
      "execution_count": null,
      "metadata": {
        "colab": {
          "base_uri": "https://localhost:8080/"
        },
        "id": "Wof7nu_3BOIC",
        "outputId": "07fe848a-e213-4757-ca5d-bbf7b2796246"
      },
      "outputs": [
        {
          "data": {
            "text/plain": [
              "{'ids': [],\n",
              " 'embeddings': None,\n",
              " 'documents': [],\n",
              " 'uris': None,\n",
              " 'included': ['metadatas', 'documents'],\n",
              " 'data': None,\n",
              " 'metadatas': []}"
            ]
          },
          "execution_count": 221,
          "metadata": {},
          "output_type": "execute_result"
        }
      ],
      "source": [
        "vectorstore_from_directory.get(\"55409552-1943-4892-949a-3b475ff9c840\")"
      ]
    },
    {
      "cell_type": "code",
      "execution_count": null,
      "metadata": {
        "id": "bL8XH5bNCc5L"
      },
      "outputs": [],
      "source": [
        "updated_document = Document(page_content='Great! We hope we gave you a good idea about the level of applicability of the most frequently used programming and software tools in the field of data science. Thank you for watching!',\n",
        "                            metadata={'Course Title': 'Introduction to Data and Data Science',\n",
        "                                     'Lecture Title': 'Programming Languages & Software Employed in Data Science - All the Tools You Need'})"
      ]
    },
    {
      "cell_type": "code",
      "execution_count": null,
      "metadata": {
        "id": "WSb31nXPCex_"
      },
      "outputs": [],
      "source": [
        "vectorstore_from_directory.update_document(document_id = \"55409552-1943-4892-949a-3b475ff9c840\",\n",
        "                                           document = updated_document)"
      ]
    },
    {
      "cell_type": "code",
      "execution_count": null,
      "metadata": {
        "colab": {
          "base_uri": "https://localhost:8080/"
        },
        "id": "maDbF1UdCgYL",
        "outputId": "58f44c3d-e0bb-474e-f32d-9595de4ff91a"
      },
      "outputs": [
        {
          "data": {
            "text/plain": [
              "{'ids': [],\n",
              " 'embeddings': None,\n",
              " 'documents': [],\n",
              " 'uris': None,\n",
              " 'included': ['metadatas', 'documents'],\n",
              " 'data': None,\n",
              " 'metadatas': []}"
            ]
          },
          "execution_count": 224,
          "metadata": {},
          "output_type": "execute_result"
        }
      ],
      "source": [
        "vectorstore_from_directory.get(\"55409552-1943-4892-949a-3b475ff9c840\")"
      ]
    },
    {
      "cell_type": "code",
      "execution_count": null,
      "metadata": {
        "id": "aktfRbNjCiSY"
      },
      "outputs": [],
      "source": [
        "vectorstore_from_directory.delete(\"55409552-1943-4892-949a-3b475ff9c840\")"
      ]
    },
    {
      "cell_type": "code",
      "execution_count": null,
      "metadata": {
        "colab": {
          "base_uri": "https://localhost:8080/"
        },
        "id": "QH8IfMkvCjn-",
        "outputId": "6fec38ea-d717-4ff9-f624-c55953b7ded4"
      },
      "outputs": [
        {
          "data": {
            "text/plain": [
              "{'ids': [],\n",
              " 'embeddings': None,\n",
              " 'documents': [],\n",
              " 'uris': None,\n",
              " 'included': ['metadatas', 'documents'],\n",
              " 'data': None,\n",
              " 'metadatas': []}"
            ]
          },
          "execution_count": 226,
          "metadata": {},
          "output_type": "execute_result"
        }
      ],
      "source": [
        "vectorstore_from_directory.get(\"55409552-1943-4892-949a-3b475ff9c840\")"
      ]
    },
    {
      "cell_type": "markdown",
      "metadata": {
        "id": "g28vPTn_SqxF"
      },
      "source": [
        "## 3. Retrival document Similarity search."
      ]
    },
    {
      "cell_type": "code",
      "execution_count": null,
      "metadata": {
        "id": "QUVFaHl-TaEo"
      },
      "outputs": [],
      "source": [
        "added_document = Document(page_content='Alright! So… How are the techniques used in data, business intelligence, or predictive analytics applied in real life? Certainly, with the help of computers. You can basically split the relevant tools into two categories—programming languages and software. Knowing a programming language enables you to devise programs that can execute specific operations. Moreover, you can reuse these programs whenever you need to execute the same action',\n",
        "                          metadata={'Course Title': 'Introduction to Data and Data Science',\n",
        "                                    'Lecture Title': 'Programming Languages & Software Employed in Data Science - All the Tools You Need'})"
      ]
    },
    {
      "cell_type": "code",
      "execution_count": null,
      "metadata": {
        "colab": {
          "base_uri": "https://localhost:8080/"
        },
        "id": "DH1ds0C0TcRY",
        "outputId": "69bc8c6d-b58c-4ee6-c59a-aedf81860875"
      },
      "outputs": [
        {
          "data": {
            "text/plain": [
              "['c022eb60-f583-4451-b5fb-7d1f20b436b7']"
            ]
          },
          "execution_count": 228,
          "metadata": {},
          "output_type": "execute_result"
        }
      ],
      "source": [
        "vectorstore.add_documents([added_document])"
      ]
    },
    {
      "cell_type": "code",
      "execution_count": null,
      "metadata": {
        "id": "_c8kET_cClAF"
      },
      "outputs": [],
      "source": [
        "question = \"What language do data scientists use?\""
      ]
    },
    {
      "cell_type": "code",
      "execution_count": null,
      "metadata": {
        "id": "rAY_-l0ZTE6c"
      },
      "outputs": [],
      "source": [
        "\n",
        "retrieved_docs = vectorstore.similarity_search(query = question,\n",
        "                                               k = 5)"
      ]
    },
    {
      "cell_type": "code",
      "execution_count": null,
      "metadata": {
        "colab": {
          "base_uri": "https://localhost:8080/"
        },
        "id": "SDCbhtNiTG9p",
        "outputId": "28f98c39-ae09-4059-c507-88e56d05fe5d"
      },
      "outputs": [
        {
          "data": {
            "text/plain": [
              "[Document(metadata={'source': '/content/Introduction_to_Data_and_Data_Science.docx'}, page_content='way, R, Python, and MATLAB, combined\\nwith SQL, cover most of the tools used when\\nworking with traditional data, BI, and conventional\\ndata science.\\nWhat about big data?\\nApart from R and Python, people working in\\nthis area are often proficient in other languages\\nlike Java or Scala. These two have not been\\ndeveloped specifically for doing statistical\\nanalyses, however they turn out to be very\\nuseful when combining data from multiple sources.\\nAll right! Let’s finish off with machine\\nlearning.\\nWhen'),\n",
              " Document(metadata={'source': '/content/Introduction_to_Data_and_Data_Science.docx'}, page_content='way, R, Python, and MATLAB, combined\\nwith SQL, cover most of the tools used when\\nworking with traditional data, BI, and conventional\\ndata science.\\nWhat about big data?\\nApart from R and Python, people working in\\nthis area are often proficient in other languages\\nlike Java or Scala. These two have not been\\ndeveloped specifically for doing statistical\\nanalyses, however they turn out to be very\\nuseful when combining data from multiple sources.\\nAll right! Let’s finish off with machine\\nlearning.\\nWhen'),\n",
              " Document(metadata={'source': '/content/Introduction_to_Data_and_Data_Science.docx'}, page_content='way, R, Python, and MATLAB, combined\\nwith SQL, cover most of the tools used when\\nworking with traditional data, BI, and conventional\\ndata science.\\nWhat about big data?\\nApart from R and Python, people working in\\nthis area are often proficient in other languages\\nlike Java or Scala. These two have not been\\ndeveloped specifically for doing statistical\\nanalyses, however they turn out to be very\\nuseful when combining data from multiple sources.\\nAll right! Let’s finish off with machine\\nlearning.\\nWhen'),\n",
              " Document(metadata={'source': '/content/Introduction_to_Data_and_Data_Science.docx'}, page_content='freedom\\nto create specific, ad-hoc tools for each\\nproject you are working on.\\nGreat!\\nWe hope we gave you a good idea about the\\nlevel of applicability of the most frequently\\nused programming and software tools in the\\nfield of data science.\\nThank you for watching!'),\n",
              " Document(metadata={'source': '/content/Introduction_to_Data_and_Data_Science.docx'}, page_content='freedom\\nto create specific, ad-hoc tools for each\\nproject you are working on.\\nGreat!\\nWe hope we gave you a good idea about the\\nlevel of applicability of the most frequently\\nused programming and software tools in the\\nfield of data science.\\nThank you for watching!')]"
            ]
          },
          "execution_count": 231,
          "metadata": {},
          "output_type": "execute_result"
        }
      ],
      "source": [
        "retrieved_docs"
      ]
    },
    {
      "cell_type": "markdown",
      "metadata": {
        "id": "gKHNeSjGTzgM"
      },
      "source": [
        "###  Retrivel similar search."
      ]
    },
    {
      "cell_type": "code",
      "execution_count": null,
      "metadata": {
        "colab": {
          "base_uri": "https://localhost:8080/"
        },
        "id": "jMgD8przTIPR",
        "outputId": "af264456-b9a3-436f-a394-adc91b069e91"
      },
      "outputs": [
        {
          "name": "stdout",
          "output_type": "stream",
          "text": [
            "Page Content: way, R, Python, and MATLAB, combined\n",
            "with SQL, cover most of the tools used when\n",
            "working with traditional data, BI, and conventional\n",
            "data science.\n",
            "What about big data?\n",
            "Apart from R and Python, people working in\n",
            "this area are often proficient in other languages\n",
            "like Java or Scala. These two have not been\n",
            "developed specifically for doing statistical\n",
            "analyses, however they turn out to be very\n",
            "useful when combining data from multiple sources.\n",
            "All right! Let’s finish off with machine\n",
            "learning.\n",
            "When\n",
            "Page Content: way, R, Python, and MATLAB, combined\n",
            "with SQL, cover most of the tools used when\n",
            "working with traditional data, BI, and conventional\n",
            "data science.\n",
            "What about big data?\n",
            "Apart from R and Python, people working in\n",
            "this area are often proficient in other languages\n",
            "like Java or Scala. These two have not been\n",
            "developed specifically for doing statistical\n",
            "analyses, however they turn out to be very\n",
            "useful when combining data from multiple sources.\n",
            "All right! Let’s finish off with machine\n",
            "learning.\n",
            "When\n",
            "Page Content: way, R, Python, and MATLAB, combined\n",
            "with SQL, cover most of the tools used when\n",
            "working with traditional data, BI, and conventional\n",
            "data science.\n",
            "What about big data?\n",
            "Apart from R and Python, people working in\n",
            "this area are often proficient in other languages\n",
            "like Java or Scala. These two have not been\n",
            "developed specifically for doing statistical\n",
            "analyses, however they turn out to be very\n",
            "useful when combining data from multiple sources.\n",
            "All right! Let’s finish off with machine\n",
            "learning.\n",
            "When\n",
            "Page Content: freedom\n",
            "to create specific, ad-hoc tools for each\n",
            "project you are working on.\n",
            "Great!\n",
            "We hope we gave you a good idea about the\n",
            "level of applicability of the most frequently\n",
            "used programming and software tools in the\n",
            "field of data science.\n",
            "Thank you for watching!\n",
            "Page Content: freedom\n",
            "to create specific, ad-hoc tools for each\n",
            "project you are working on.\n",
            "Great!\n",
            "We hope we gave you a good idea about the\n",
            "level of applicability of the most frequently\n",
            "used programming and software tools in the\n",
            "field of data science.\n",
            "Thank you for watching!\n"
          ]
        }
      ],
      "source": [
        "for i in retrieved_docs:\n",
        "    print(f\"Page Content: {i.page_content}\")\n"
      ]
    },
    {
      "cell_type": "markdown",
      "metadata": {
        "id": "_PhqR70GUTfX"
      },
      "source": [
        "### Retrieval: Maximal Marginal Relevance (MMR) search ( sovle duplicated )  Redundancy is calculated as the maximum similarity between a new candidate document (or information) and the already retrieved documents."
      ]
    },
    {
      "cell_type": "markdown",
      "metadata": {
        "id": "mt_-CcBqVS1F"
      },
      "source": [
        "![image.png](data:image/png;base64,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)![image.png](data:image/png;base64,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)"
      ]
    },
    {
      "cell_type": "code",
      "execution_count": null,
      "metadata": {
        "id": "m64a5mu7XMRZ"
      },
      "outputs": [],
      "source": [
        "question2 = \"which software datascience use?\""
      ]
    },
    {
      "cell_type": "code",
      "execution_count": null,
      "metadata": {
        "id": "gR3Ic_ohTSL0"
      },
      "outputs": [],
      "source": [
        "retrieved_docs2 = vectorstore.max_marginal_relevance_search(\n",
        "    query=question2,\n",
        "    k=5,\n",
        "    lambda_mult = 1,\n",
        "    filter = {\"Lecture Title\": \"Programming Languages & Software Employed in Data Science - All the Tools You Need\"}\n",
        ")"
      ]
    },
    {
      "cell_type": "code",
      "execution_count": null,
      "metadata": {
        "colab": {
          "base_uri": "https://localhost:8080/"
        },
        "id": "j-JYXFcLWNxT",
        "outputId": "41f734d2-53b0-4b1a-e486-66d75b440fa0"
      },
      "outputs": [
        {
          "name": "stdout",
          "output_type": "stream",
          "text": [
            "Page Content: Alright! So… How are the techniques used in data, business intelligence, or predictive analytics applied in real life? Certainly, with the help of computers. You can basically split the relevant tools into two categories—programming languages and software. Knowing a programming language enables you to devise programs that can execute specific operations. Moreover, you can reuse these programs whenever you need to execute the same action \n",
            "\n",
            "Page Content: Alright! So… How are the techniques used in data, business intelligence, or predictive analytics applied in real life? Certainly, with the help of computers. You can basically split the relevant tools into two categories—programming languages and software. Knowing a programming language enables you to devise programs that can execute specific operations. Moreover, you can reuse these programs whenever you need to execute the same action \n",
            "\n",
            "Page Content: Alright! So… How are the techniques used in data, business intelligence, or predictive analytics applied in real life? Certainly, with the help of computers. You can basically split the relevant tools into two categories—programming languages and software. Knowing a programming language enables you to devise programs that can execute specific operations. Moreover, you can reuse these programs whenever you need to execute the same action \n",
            "\n",
            "Page Content: Alright! So… How are the techniques used in data, business intelligence, or predictive analytics applied in real life? Certainly, with the help of computers. You can basically split the relevant tools into two categories—programming languages and software. Knowing a programming language enables you to devise programs that can execute specific operations. Moreover, you can reuse these programs whenever you need to execute the same action \n",
            "\n",
            "Page Content: Alright! So… How are the techniques used in data, business intelligence, or predictive analytics applied in real life? Certainly, with the help of computers. You can basically split the relevant tools into two categories—programming languages and software. Knowing a programming language enables you to devise programs that can execute specific operations. Moreover, you can reuse these programs whenever you need to execute the same action \n",
            "\n"
          ]
        }
      ],
      "source": [
        "for l in retrieved_docs2:\n",
        "    print(f\"Page Content: {l.page_content} \\n\")\n"
      ]
    },
    {
      "cell_type": "markdown",
      "metadata": {
        "id": "6etmYZaJXeWL"
      },
      "source": [
        "### Backend retrivel."
      ]
    },
    {
      "cell_type": "code",
      "execution_count": null,
      "metadata": {
        "colab": {
          "base_uri": "https://localhost:8080/"
        },
        "id": "8sn9zqy4XIkK",
        "outputId": "3e9e5d8c-f3b3-4377-b355-d1c06eeec822"
      },
      "outputs": [
        {
          "data": {
            "text/plain": [
              "59"
            ]
          },
          "execution_count": 236,
          "metadata": {},
          "output_type": "execute_result"
        }
      ],
      "source": [
        "# Demonstrate how to create a runable retrival object.\n",
        "len(vectorstore.get()['documents'])"
      ]
    },
    {
      "cell_type": "code",
      "execution_count": null,
      "metadata": {
        "id": "TNxwqQ5NWSks"
      },
      "outputs": [],
      "source": [
        "retriever = vectorstore.as_retriever(search_type = 'mmr', #  Maximal Marginal Relevance\n",
        "                                     search_kwargs = {'k': 3,\n",
        "                                                      'lambda_mult': 0.7})"
      ]
    },
    {
      "cell_type": "code",
      "execution_count": null,
      "metadata": {
        "colab": {
          "base_uri": "https://localhost:8080/"
        },
        "id": "5OvepRJpYDTv",
        "outputId": "36e8cb17-6ba8-4bf8-ac93-bca97a4bd2b9"
      },
      "outputs": [
        {
          "data": {
            "text/plain": [
              "VectorStoreRetriever(tags=['Chroma', 'GoogleGenerativeAIEmbeddings'], vectorstore=<langchain_community.vectorstores.chroma.Chroma object at 0x78c37bb481d0>, search_type='mmr', search_kwargs={'k': 3, 'lambda_mult': 0.7})"
            ]
          },
          "execution_count": 238,
          "metadata": {},
          "output_type": "execute_result"
        }
      ],
      "source": [
        "retriever"
      ]
    },
    {
      "cell_type": "code",
      "execution_count": null,
      "metadata": {
        "id": "yjXf0ggoYEta"
      },
      "outputs": [],
      "source": [
        "question = \"What software do data scientists use?\""
      ]
    },
    {
      "cell_type": "code",
      "execution_count": null,
      "metadata": {
        "id": "jpe4Mx3fYIU9"
      },
      "outputs": [],
      "source": [
        "retrieved_docs = retriever.invoke(question)"
      ]
    },
    {
      "cell_type": "code",
      "execution_count": null,
      "metadata": {
        "colab": {
          "base_uri": "https://localhost:8080/"
        },
        "id": "8lA7swY2YJnG",
        "outputId": "54c19b91-8392-4e43-e913-cd99b8048f6e"
      },
      "outputs": [
        {
          "data": {
            "text/plain": [
              "[Document(metadata={'source': '/content/Introduction_to_Data_and_Data_Science.docx'}, page_content='freedom\\nto create specific, ad-hoc tools for each\\nproject you are working on.\\nGreat!\\nWe hope we gave you a good idea about the\\nlevel of applicability of the most frequently\\nused programming and software tools in the\\nfield of data science.\\nThank you for watching!'),\n",
              " Document(metadata={'source': '/content/Introduction_to_Data_and_Data_Science.docx'}, page_content='ters.\\nYou can basically split the relevant tools\\ninto two categories—programming languages\\nand software.\\nKnowing a programming language enables you\\nto devise programs that can execute specific\\noperations. Moreover, you can reuse these\\nprograms whenever you need to execute the\\nsame action.\\nAs you can see from the infographic, R, and\\nPython are the two most popular tools across\\nall columns. Their biggest advantage is that\\nthey can manipulate data and are integrated\\nwithin multiple data and data sc'),\n",
              " Document(metadata={'source': '/content/Introduction_to_Data_and_Data_Science.docx'}, page_content='justed for specific business needs.\\nTheir smaller scope does not make them less\\nuseful, in fact, just the opposite—they\\nare a lot easier to learn and be adopted by\\nothers. You have already heard of several\\nof those.\\nBecause of its ability to do relatively complex\\ncomputations and good visualizations quickly,\\nExcel is a tool applicable to more than one\\ncategory—traditional data, BI, and Data\\nScience. Similarly, SPSS is a very famous\\ntool for working with traditional data and\\napplying statistical')]"
            ]
          },
          "execution_count": 241,
          "metadata": {},
          "output_type": "execute_result"
        }
      ],
      "source": [
        "retrieved_docs"
      ]
    },
    {
      "cell_type": "code",
      "execution_count": null,
      "metadata": {
        "colab": {
          "base_uri": "https://localhost:8080/"
        },
        "id": "swxS8YODYK_m",
        "outputId": "381414b0-00b6-405c-9b78-936bc8f3286a"
      },
      "outputs": [
        {
          "name": "stdout",
          "output_type": "stream",
          "text": [
            "Page Content: freedom\n",
            "to create specific, ad-hoc tools for each\n",
            "project you are working on.\n",
            "Great!\n",
            "We hope we gave you a good idea about the\n",
            "level of applicability of the most frequently\n",
            "used programming and software tools in the\n",
            "field of data science.\n",
            "Thank you for watching!\n",
            "\n",
            "Page Content: ters.\n",
            "You can basically split the relevant tools\n",
            "into two categories—programming languages\n",
            "and software.\n",
            "Knowing a programming language enables you\n",
            "to devise programs that can execute specific\n",
            "operations. Moreover, you can reuse these\n",
            "programs whenever you need to execute the\n",
            "same action.\n",
            "As you can see from the infographic, R, and\n",
            "Python are the two most popular tools across\n",
            "all columns. Their biggest advantage is that\n",
            "they can manipulate data and are integrated\n",
            "within multiple data and data sc\n",
            "\n",
            "Page Content: justed for specific business needs.\n",
            "Their smaller scope does not make them less\n",
            "useful, in fact, just the opposite—they\n",
            "are a lot easier to learn and be adopted by\n",
            "others. You have already heard of several\n",
            "of those.\n",
            "Because of its ability to do relatively complex\n",
            "computations and good visualizations quickly,\n",
            "Excel is a tool applicable to more than one\n",
            "category—traditional data, BI, and Data\n",
            "Science. Similarly, SPSS is a very famous\n",
            "tool for working with traditional data and\n",
            "applying statistical\n",
            "\n"
          ]
        }
      ],
      "source": [
        "for i in retrieved_docs:\n",
        "    print(f\"Page Content: {i.page_content}\\n\")"
      ]
    },
    {
      "cell_type": "code",
      "execution_count": null,
      "metadata": {
        "id": "l43GSCq9rcC7"
      },
      "outputs": [],
      "source": [
        "retriever = vectorstore.as_retriever(search_type = 'mmr',\n",
        "                                     search_kwargs = {'k':3,\n",
        "                                                      'lambda_mult':0.7})"
      ]
    },
    {
      "cell_type": "code",
      "execution_count": null,
      "metadata": {
        "id": "Xuqo4S0jYNeg"
      },
      "outputs": [],
      "source": [
        "from langchain.prompts import PromptTemplate\n",
        "\n",
        "TEMPLATE = '''\n",
        "Answer the following question:\n",
        "{question}\n",
        "\n",
        "To answer the question, use only the following context:\n",
        "{context}\n",
        "\n",
        "At the end of the response, specify the name of the lecture this context is taken from in the format:\n",
        "Resources: *Lecture Title*\n",
        "where *Lecture Title* should be substituted with the title of all resource lectures.\n",
        "'''\n",
        "\n",
        "prompt_template = PromptTemplate.from_template(TEMPLATE)"
      ]
    },
    {
      "cell_type": "code",
      "execution_count": null,
      "metadata": {
        "id": "ph50mgpUrNxN"
      },
      "outputs": [],
      "source": [
        "from google import generativeai as genai\n",
        "\n",
        "# Access the API key from Colab secrets\n",
        "import google.colab.userdata as userdata\n",
        "GEMINI_API_KEY = userdata.get('GEMINI_API_KEY')\n",
        "\n",
        "genai.configure(api_key=GEMINI_API_KEY)\n",
        "chat = genai.GenerativeModel(model_name=\"gemini-2.5-flash\")\n"
      ]
    },
    {
      "cell_type": "code",
      "execution_count": null,
      "metadata": {
        "id": "c_plHabUv886"
      },
      "outputs": [],
      "source": [
        "from google import genai\n",
        "\n",
        "# The client gets the API key from the environment variable `GEMINI_API_KEY`.\n",
        "client = genai.Client()"
      ]
    },
    {
      "cell_type": "code",
      "execution_count": null,
      "metadata": {
        "id": "Dk6dMW9NuUCn"
      },
      "outputs": [],
      "source": [
        "import os\n",
        "import google.colab.userdata as userdata\n",
        "\n",
        "# Access the API key from Colab secrets and set as environment variable\n",
        "os.environ[\"GOOGLE_API_KEY\"] = userdata.get('GOOGLE_API_KEY')\n",
        "\n",
        "from google.generativeai import GenerativeModel\n",
        "\n",
        "chat = GenerativeModel(model_name=\"gemini-2.5-flash\")"
      ]
    },
    {
      "cell_type": "code",
      "execution_count": null,
      "metadata": {
        "colab": {
          "base_uri": "https://localhost:8080/"
        },
        "id": "bHHwCuIrx-64",
        "outputId": "067eb34c-c180-41b6-d4ea-519df468bb80"
      },
      "outputs": [
        {
          "name": "stdout",
          "output_type": "stream",
          "text": [
            "AI learns patterns from data to make predictions or decisions.\n"
          ]
        }
      ],
      "source": [
        "from langchain.schema.runnable import RunnablePassthrough\n",
        "response = client.models.generate_content(\n",
        "    model=\"gemini-2.5-flash\", contents=\"Explain how AI works in a few words\"\n",
        ")\n",
        "print(response.text)\n"
      ]
    },
    {
      "cell_type": "code",
      "execution_count": null,
      "metadata": {
        "id": "2eGihzf_yC2v"
      },
      "outputs": [],
      "source": [
        "from langchain_google_genai import ChatGoogleGenerativeAI\n",
        "\n",
        "chat = ChatGoogleGenerativeAI(model=\"gemini-2.5-flash\")"
      ]
    },
    {
      "cell_type": "code",
      "execution_count": null,
      "metadata": {
        "id": "nRGE9s7utnZy"
      },
      "outputs": [],
      "source": [
        "\n",
        "from langchain.schema.output_parser import StrOutputParser\n",
        "from langchain_google_genai import ChatGoogleGenerativeAI\n",
        "\n",
        "chat = ChatGoogleGenerativeAI(model=\"gemini-2.5-flash\") # Use the LangChain wrapper\n",
        "question = \"What language do data scientists use?\"\n",
        "chain = ({'context': retriever,\n",
        "         'question': RunnablePassthrough()}\n",
        "         | prompt_template\n",
        "         | chat\n",
        "         | StrOutputParser())"
      ]
    },
    {
      "cell_type": "code",
      "execution_count": null,
      "metadata": {
        "colab": {
          "base_uri": "https://localhost:8080/",
          "height": 53
        },
        "id": "930CvPdYxsdH",
        "outputId": "484a1d0d-53b0-420e-e5c5-4b2b400ad7b8"
      },
      "outputs": [
        {
          "data": {
            "application/vnd.google.colaboratory.intrinsic+json": {
              "type": "string"
            },
            "text/plain": [
              "'Data scientists use R, Python, MATLAB, and SQL. For those working with big data, Java and Scala are also often used.\\n\\nResources: Programming Languages & Software Employed in Data Science - All the Tools You Need'"
            ]
          },
          "execution_count": 276,
          "metadata": {},
          "output_type": "execute_result"
        }
      ],
      "source": [
        "chain.invoke(question)"
      ]
    },
    {
      "cell_type": "code",
      "execution_count": null,
      "metadata": {
        "colab": {
          "base_uri": "https://localhost:8080/"
        },
        "id": "smo4tr7yyNS2",
        "outputId": "a083896f-8464-4521-846e-81f86e664fdd"
      },
      "outputs": [
        {
          "name": "stdout",
          "output_type": "stream",
          "text": [
            "Data scientists use a variety of software tools. R and Python are the two most popular tools as they can manipulate data and are integrated within multiple data and data science software platforms. They are adaptable and can solve a wide range of business and data-related problems. Hadoop is a software framework designed to handle the complexity and computational intensity of big data by distributing computational tasks on multiple computers. Additionally, Power BI, SaS, Qlik, and Tableau are top-notch examples of software designed for business intelligence visualizations.\n",
            "\n",
            "Resources: Programming Languages & Software Employed in Data Science - All the Tools You Need\n"
          ]
        }
      ],
      "source": [
        "print('Data scientists use a variety of software tools. R and Python are the two most popular tools as they can manipulate data and are integrated within multiple data and data science software platforms. They are adaptable and can solve a wide range of business and data-related problems. Hadoop is a software framework designed to handle the complexity and computational intensity of big data by distributing computational tasks on multiple computers. Additionally, Power BI, SaS, Qlik, and Tableau are top-notch examples of software designed for business intelligence visualizations.\\n\\nResources: Programming Languages & Software Employed in Data Science - All the Tools You Need')"
      ]
    }
  ],
  "metadata": {
    "colab": {
      "provenance": []
    },
    "kernelspec": {
      "display_name": "Python 3",
      "name": "python3"
    },
    "language_info": {
      "name": "python"
    }
  },
  "nbformat": 4,
  "nbformat_minor": 0
}
